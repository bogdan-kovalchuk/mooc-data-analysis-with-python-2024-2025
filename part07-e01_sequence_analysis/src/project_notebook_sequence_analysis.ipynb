{
  "cells": [
    {
      "cell_type": "markdown",
      "metadata": {
        "id": "eORrJuEGVSeE"
      },
      "source": [
        "# Sequence Analysis with Python\n",
        "\n",
        "Contact: Veli Mäkinen veli.makinen@helsinki.fi"
      ]
    },
    {
      "cell_type": "markdown",
      "metadata": {
        "id": "bCs5I3H3VSeF"
      },
      "source": [
        "The following assignments introduce applications of hashing with ```dict()``` primitive of Python. While doing so, a rudimentary introduction to biological sequences is given.\n",
        "This framework is then enhanced with probabilities, leading to routines to generate random sequences under some constraints, including a general concept of *Markov-chains*. All these components illustrate the usage of ```dict()```, but at the same time introduce some other computational routines to efficiently deal with probabilities.   \n",
        "The function ```collections.defaultdict``` can be useful.\n",
        "\n",
        "Below are some \"suggested\" imports. Feel free to use and modify these, or not. Generally it's good practice to keep most or all imports in one place. Typically very close to the start of notebooks."
      ]
    },
    {
      "cell_type": "code",
      "execution_count": 2,
      "metadata": {
        "ExecuteTime": {
          "end_time": "2019-07-08T22:04:22.831112Z",
          "start_time": "2019-07-08T22:04:22.688031Z"
        },
        "id": "rnWWckw4VSeG"
      },
      "outputs": [],
      "source": [
        "import re\n",
        "import unittest\n",
        "import random\n",
        "\n",
        "from collections import defaultdict\n",
        "from itertools import product\n",
        "\n",
        "import numpy as np\n",
        "from numpy.random import choice"
      ]
    },
    {
      "cell_type": "markdown",
      "metadata": {
        "id": "67uRyMaRVSeH"
      },
      "source": [
        "The automated TMC tests do not test cell outputs. These are intended to be evaluated in the peer reviews. So it is still be a good idea to make the outputs as clear and informative as possible.\n",
        "\n",
        "To keep TMC tests running as well as possible it is recommended to keep global variable assignments in the notebook to a minimum to avoid potential name clashes and confusion. Additionally you should keep all actual code exection in main guards to keep the test running smoothly. If you run [check_sequence.py](https://raw.githubusercontent.com/saskeli/data-analysis-with-python-summer-2019/master/check_outputs.py) in the `part07-e01_sequence_analysis` folder, the script should finish very quickly and optimally produce no output.\n",
        "\n",
        "If you download data from the internet during execution (codon usage table), the parts where downloading is done should not work if you decide to submit to the tmc server. Local tests should work fine."
      ]
    },
    {
      "cell_type": "markdown",
      "metadata": {
        "id": "8lj4j5UBVSeH"
      },
      "source": [
        "## DNA and RNA\n",
        "\n",
        "A DNA molecule consist, in principle, of a chain of smaller molecules. These smaller molecules have some common basic components (bases) that repeat. For our purposes it is sufficient to know that these bases are nucleotides adenine, cytosine, guanine, and thymine with abbreviations ```A```, ```C```, ```G```, and ```T```. Given a *DNA sequence* e.g. ```ACGATGAGGCTCAT```, one can reverse engineer (with negligible loss of information) the corresponding DNA molecule.\n",
        "\n",
        "Parts of a DNA molecule can *transcribe* into an RNA molecule. In this process, thymine gets replaced by uracil (```U```).\n",
        "\n",
        "\n",
        "1. Write a function ```dna_to_rna``` to convert a given DNA sequence $s$ into an RNA sequence. For the sake of exercise, use ```dict()``` to store the symbol to symbol encoding rules. Create a program to test your function."
      ]
    },
    {
      "cell_type": "code",
      "execution_count": 3,
      "metadata": {
        "ExecuteTime": {
          "end_time": "2019-07-08T22:04:22.841952Z",
          "start_time": "2019-07-08T22:04:22.834721Z"
        },
        "id": "bKeC_4eFVSeI"
      },
      "outputs": [],
      "source": [
        "def dna_to_rna(s):\n",
        "    \"\"\"\n",
        "    Transcribes a DNA sequence into the corresponding RNA sequence by replacing 'T' with 'U'.\n",
        "    \"\"\"\n",
        "    return s.replace(\"T\", \"U\")\n"
      ]
    },
    {
      "cell_type": "code",
      "execution_count": 4,
      "metadata": {
        "colab": {
          "base_uri": "https://localhost:8080/"
        },
        "id": "jB8_WgR8VSeJ",
        "outputId": "183aef01-7bef-411c-e0c8-2a56504fd82d"
      },
      "outputs": [
        {
          "output_type": "stream",
          "name": "stderr",
          "text": [
            "test_all_bases (__main__.TestDnaToRna.test_all_bases) ... ok\n",
            "test_empty_string (__main__.TestDnaToRna.test_empty_string) ... ok\n",
            "test_mixed_sequence (__main__.TestDnaToRna.test_mixed_sequence) ... ok\n",
            "test_no_thymine (__main__.TestDnaToRna.test_no_thymine) ... ok\n",
            "test_only_thymines (__main__.TestDnaToRna.test_only_thymines) ... ok\n",
            "\n",
            "----------------------------------------------------------------------\n",
            "Ran 5 tests in 0.012s\n",
            "\n",
            "OK\n"
          ]
        }
      ],
      "source": [
        "class TestDnaToRna(unittest.TestCase):\n",
        "    def test_mixed_sequence(self):\n",
        "        self.assertEqual(dna_to_rna(\"AACGTGATTTC\"), \"AACGUGAUUUC\")\n",
        "\n",
        "    def test_only_thymines(self):\n",
        "        self.assertEqual(dna_to_rna(\"TTTT\"), \"UUUU\")\n",
        "\n",
        "    def test_all_bases(self):\n",
        "        self.assertEqual(dna_to_rna(\"ACGT\"), \"ACGU\")\n",
        "\n",
        "    def test_no_thymine(self):\n",
        "        self.assertEqual(dna_to_rna(\"GGGCCC\"), \"GGGCCC\")\n",
        "\n",
        "    def test_empty_string(self):\n",
        "        self.assertEqual(dna_to_rna(\"\"), \"\")\n",
        "\n",
        "\n",
        "if __name__ == \"__main__\":\n",
        "    unittest.main(argv=[''], verbosity=2, exit=False)"
      ]
    },
    {
      "cell_type": "markdown",
      "metadata": {
        "id": "J-1IUMF0VSeK"
      },
      "source": [
        "### Idea of solution\n",
        "\n",
        "The function implements transcription by directly replacing every occurrence of ```T``` with ```U``` in the DNA string using Python’s built-in ```str.replace``` method. This is efficient and concise, since all other bases remain unchanged."
      ]
    },
    {
      "cell_type": "markdown",
      "metadata": {
        "id": "1FyX4mLdVSeL"
      },
      "source": [
        "### Discussion\n",
        "\n",
        "The program was tested with several cases: mixed sequences, only thymine, all four bases, sequences without thymine, and an empty string. In all cases the results were correct, e.g. ```AACGTGATTTC``` was transcribed to ```AACGUGAUUUC```. The solution is simple, runs in linear time relative to the length of the input, and works reliably for valid uppercase DNA input."
      ]
    },
    {
      "cell_type": "markdown",
      "metadata": {
        "id": "6CspbraiVSeL"
      },
      "source": [
        "## Proteins\n",
        "\n",
        "Like DNA and RNA, protein molecule can be interpreted as a chain of smaller molecules, where the bases are now amino acids. RNA molecule may *translate* into a protein molecule, but instead of base by base, three bases of RNA correspond to one base of protein. That is, RNA sequence is read triplet (called codon) at a time.\n",
        "\n",
        "2. Consider the codon to amino acid conversion table in http://htmlpreview.github.io/?https://github.com/csmastersUH/data_analysis_with_python_2020/blob/master/Codon%20usage%20table.html. Write a function ```get_dict``` to read the table into a ```dict()```, such that for each RNA sequence of length 3, say $\\texttt{AGU}$, the hash table stores the conversion rule to the corresponding amino acid. You may store the html page to your local src directory,\n",
        "and parse that file."
      ]
    },
    {
      "cell_type": "code",
      "source": [
        "conversion_table = \"\"\"UUU F 0.46 17.6 (714298)  UCU S 0.19 15.2 (618711)  UAU Y 0.44 12.2 (495699)  UGU C 0.46 10.6 (430311)\n",
        "                      UUC F 0.54 20.3 (824692)  UCC S 0.22 17.7 (718892)  UAC Y 0.56 15.3 (622407)  UGC C 0.54 12.6 (513028)\n",
        "                      UUA L 0.08  7.7 (311881)  UCA S 0.15 12.2 (496448)  UAA * 0.30  1.0 ( 40285)  UGA * 0.47  1.6 ( 63237)\n",
        "                      UUG L 0.13 12.9 (525688)  UCG S 0.05  4.4 (179419)  UAG * 0.24  0.8 ( 32109)  UGG W 1.00 13.2 (535595)\n",
        "\n",
        "                      CUU L 0.13 13.2 (536515)  CCU P 0.29 17.5 (713233)  CAU H 0.42 10.9 (441711)  CGU R 0.08  4.5 (184609)\n",
        "                      CUC L 0.20 19.6 (796638)  CCC P 0.32 19.8 (804620)  CAC H 0.58 15.1 (613713)  CGC R 0.18 10.4 (423516)\n",
        "                      CUA L 0.07  7.2 (290751)  CCA P 0.28 16.9 (688038)  CAA Q 0.27 12.3 (501911)  CGA R 0.11  6.2 (250760)\n",
        "                      CUG L 0.40 39.6 (1611801)  CCG P 0.11  6.9 (281570)  CAG Q 0.73 34.2 (1391973)  CGG R 0.20 11.4 (464485)\n",
        "\n",
        "                      AUU I 0.36 16.0 (650473)  ACU T 0.25 13.1 (533609)  AAU N 0.47 17.0 (689701)  AGU S 0.15 12.1 (493429)\n",
        "                      AUC I 0.47 20.8 (846466)  ACC T 0.36 18.9 (768147)  AAC N 0.53 19.1 (776603)  AGC S 0.24 19.5 (791383)\n",
        "                      AUA I 0.17  7.5 (304565)  ACA T 0.28 15.1 (614523)  AAA K 0.43 24.4 (993621)  AGA R 0.21 12.2 (494682)\n",
        "                      AUG M 1.00 22.0 (896005)  ACG T 0.11  6.1 (246105)  AAG K 0.57 31.9 (1295568)  AGG R 0.21 12.0 (486463)\n",
        "\n",
        "                      GUU V 0.18 11.0 (448607)  GCU A 0.27 18.4 (750096)  GAU D 0.46 21.8 (885429)  GGU G 0.16 10.8 (437126)\n",
        "                      GUC V 0.24 14.5 (588138)  GCC A 0.40 27.7 (1127679)  GAC D 0.54 25.1 (1020595)  GGC G 0.34 22.2 (903565)\n",
        "                      GUA V 0.12  7.1 (287712)  GCA A 0.23 15.8 (643471)  GAA E 0.42 29.0 (1177632)  GGA G 0.25 16.5 (669873)\n",
        "                      GUG V 0.46 28.1 (1143534)  GCG A 0.11  7.4 (299495)  GAG E 0.58 39.6 (1609975)  GGG G 0.25 16.5 (669768)\"\"\""
      ],
      "metadata": {
        "id": "qtikj9CkdP0A"
      },
      "execution_count": 5,
      "outputs": []
    },
    {
      "cell_type": "code",
      "execution_count": 6,
      "metadata": {
        "ExecuteTime": {
          "end_time": "2019-07-08T22:04:22.867855Z",
          "start_time": "2019-07-08T22:04:22.845885Z"
        },
        "colab": {
          "base_uri": "https://localhost:8080/"
        },
        "id": "HvXdXel0VSeL",
        "outputId": "bfeccfad-7556-4460-b89e-beffe203d229"
      },
      "outputs": [
        {
          "output_type": "stream",
          "name": "stdout",
          "text": [
            "{'UUU': 'F', 'UCU': 'S', 'UAU': 'Y', 'UGU': 'C', 'UUC': 'F', 'UCC': 'S', 'UAC': 'Y', 'UGC': 'C', 'UUA': 'L', 'UCA': 'S', 'UAA': '*', 'UGA': '*', 'UUG': 'L', 'UCG': 'S', 'UAG': '*', 'UGG': 'W', 'CUU': 'L', 'CCU': 'P', 'CAU': 'H', 'CGU': 'R', 'CUC': 'L', 'CCC': 'P', 'CAC': 'H', 'CGC': 'R', 'CUA': 'L', 'CCA': 'P', 'CAA': 'Q', 'CGA': 'R', 'CUG': 'L', 'CCG': 'P', 'CAG': 'Q', 'CGG': 'R', 'AUU': 'I', 'ACU': 'T', 'AAU': 'N', 'AGU': 'S', 'AUC': 'I', 'ACC': 'T', 'AAC': 'N', 'AGC': 'S', 'AUA': 'I', 'ACA': 'T', 'AAA': 'K', 'AGA': 'R', 'AUG': 'M', 'ACG': 'T', 'AAG': 'K', 'AGG': 'R', 'GUU': 'V', 'GCU': 'A', 'GAU': 'D', 'GGU': 'G', 'GUC': 'V', 'GCC': 'A', 'GAC': 'D', 'GGC': 'G', 'GUA': 'V', 'GCA': 'A', 'GAA': 'E', 'GGA': 'G', 'GUG': 'V', 'GCG': 'A', 'GAG': 'E', 'GGG': 'G'}\n"
          ]
        }
      ],
      "source": [
        "def get_dict():\n",
        "    \"\"\"\n",
        "    Parses the codon usage table and returns a dictionary mapping each RNA codon (triplet)\n",
        "    to its corresponding amino acid (one-letter code).\n",
        "    \"\"\"\n",
        "    pattern = r\"([AUCG]{3})\\s+([A-Z*])\"\n",
        "    matches = re.findall(pattern, conversion_table)\n",
        "    return {triplet: aa for triplet, aa in matches}\n",
        "\n",
        "\n",
        "if __name__ == \"__main__\":\n",
        "    codon_to_aa = get_dict()\n",
        "    print(codon_to_aa)"
      ]
    },
    {
      "cell_type": "markdown",
      "metadata": {
        "id": "gsGPJobJVSeM"
      },
      "source": [
        "### Idea of solution\n",
        "\n",
        "We construct a dictionary mapping “codon → amino acid” by parsing the text table with a regular expression. The pattern `([AUCG]{3})\\s+([A-Z*])` captures an RNA triplet (A/U/C/G) followed by the one-letter amino acid code (including stop codons `*`). From the extracted pairs `(codon, amino acid)` we build a `dict`. This approach is simple, requires no external libraries, and runs in linear time relative to the length of the input string.\n",
        "\n"
      ]
    },
    {
      "cell_type": "markdown",
      "source": [
        "### Discussion\n",
        "\n",
        "- The solution ignores frequencies and counts in parentheses, keeping only the essential mapping between codons and one-letter amino acid codes.  \n",
        "- All 64 codons are supported, including the stop codons `UAA`, `UAG`, and `UGA` (mapped to `'*'`).  \n",
        "- Case sensitivity: the input is expected to be uppercase RNA bases (A/U/C/G).  \n",
        "- Complexity: O(N), where N is the length of the table string; memory usage is O(1) with respect to the fixed number of possible keys (maximum 64).  \n"
      ],
      "metadata": {
        "id": "uCrcKrNEcOPD"
      }
    },
    {
      "cell_type": "markdown",
      "metadata": {
        "id": "91Qu9qQOVSeM"
      },
      "source": [
        "3. Use the same conversion table as above, but now write function `get_dict_list` to read the table into a `dict()`, such that for each amino acid the hash table stores the list of codons encoding it.    "
      ]
    },
    {
      "cell_type": "code",
      "execution_count": 7,
      "metadata": {
        "ExecuteTime": {
          "end_time": "2019-07-08T22:04:22.882386Z",
          "start_time": "2019-07-08T22:04:22.872449Z"
        },
        "colab": {
          "base_uri": "https://localhost:8080/"
        },
        "id": "qm5_za43VSeM",
        "outputId": "35178d22-8ce2-4ee1-8121-fc7c644be9d1"
      },
      "outputs": [
        {
          "output_type": "stream",
          "name": "stdout",
          "text": [
            "{'F': ['UUU', 'UUC'], 'S': ['UCU', 'UCC', 'UCA', 'UCG', 'AGU', 'AGC'], 'Y': ['UAU', 'UAC'], 'C': ['UGU', 'UGC'], 'L': ['UUA', 'UUG', 'CUU', 'CUC', 'CUA', 'CUG'], '*': ['UAA', 'UGA', 'UAG'], 'W': ['UGG'], 'P': ['CCU', 'CCC', 'CCA', 'CCG'], 'H': ['CAU', 'CAC'], 'R': ['CGU', 'CGC', 'CGA', 'CGG', 'AGA', 'AGG'], 'Q': ['CAA', 'CAG'], 'I': ['AUU', 'AUC', 'AUA'], 'T': ['ACU', 'ACC', 'ACA', 'ACG'], 'N': ['AAU', 'AAC'], 'K': ['AAA', 'AAG'], 'M': ['AUG'], 'V': ['GUU', 'GUC', 'GUA', 'GUG'], 'A': ['GCU', 'GCC', 'GCA', 'GCG'], 'D': ['GAU', 'GAC'], 'G': ['GGU', 'GGC', 'GGA', 'GGG'], 'E': ['GAA', 'GAG']}\n"
          ]
        }
      ],
      "source": [
        "def get_dict_list():\n",
        "    \"\"\"\n",
        "    Parses the codon usage table and returns a dictionary mapping each amino acid\n",
        "    (one-letter code) to the list of RNA codons (triplets) that encode it.\n",
        "    \"\"\"\n",
        "    pattern = r\"([AUCG]{3})\\s+([A-Z*])\"\n",
        "    matches = re.findall(pattern, conversion_table)\n",
        "    amino_acid_dict = defaultdict(list)\n",
        "    for triplet, aa in matches:\n",
        "        amino_acid_dict[aa].append(triplet)\n",
        "    return dict(amino_acid_dict)\n",
        "\n",
        "\n",
        "if __name__ == \"__main__\":\n",
        "    aa_to_codons = get_dict_list()\n",
        "    print(aa_to_codons)"
      ]
    },
    {
      "cell_type": "markdown",
      "metadata": {
        "id": "9EgwudyDVSeN"
      },
      "source": [
        "### Idea of solution\n",
        "\n",
        "We invert the mapping from the previous task. Using the same regular expression pattern `([AUCG]{3})\\s+([A-Z*])` to extract `(codon, amino_acid)` pairs, we build a dictionary where **each amino acid** is the key and the **value is the list of all codons** that encode it. Practically, we iterate over all matches and append each codon to `aa_to_codons[amino_acid]`. A `defaultdict(list)` makes this concise and efficient. The approach is linear in the size of the input table and requires no external dependencies.\n"
      ]
    },
    {
      "cell_type": "markdown",
      "metadata": {
        "id": "ryljU4MnVSeN"
      },
      "source": [
        "### Discussion\n",
        "\n",
        "- The output dictionary has one entry per unique amino acid (20 standard amino acids plus the stop symbol `*`).\n",
        "- Each value lists all synonymous codons for that amino acid (e.g., `L` maps to six codons; `*` maps to `UAA`, `UAG`, `UGA`).\n",
        "- Complexity is O(N) over the length of the table string; memory is bounded by the genetic code (64 codons).\n"
      ]
    },
    {
      "cell_type": "markdown",
      "metadata": {
        "id": "wEeR2AOIVSeN"
      },
      "source": [
        "With the conversion tables at hand, the following should be trivial to solve.\n",
        "\n",
        "4. Fill in function ```rna_to_prot``` in the stub solution to convert a given DNA sequence $s$ into a protein sequence.\n",
        "You may use the dictionaries from exercises 2 and 3. You can test your program with `ATGATATCATCGACGATGTAG`."
      ]
    },
    {
      "cell_type": "code",
      "execution_count": 8,
      "metadata": {
        "ExecuteTime": {
          "end_time": "2019-07-08T22:04:22.913321Z",
          "start_time": "2019-07-08T22:04:22.906646Z"
        },
        "colab": {
          "base_uri": "https://localhost:8080/"
        },
        "id": "S9560nLAVSeN",
        "outputId": "156f6dd6-eb3b-47f5-f65c-47de69a75182"
      },
      "outputs": [
        {
          "output_type": "stream",
          "name": "stdout",
          "text": [
            "MISSTM\n"
          ]
        }
      ],
      "source": [
        "def rna_to_prot(s):\n",
        "    \"\"\"\n",
        "    Translates an RNA sequence into the corresponding protein sequence\n",
        "    using the codon-to-amino-acid mapping. Translation stops at the first stop codon.\n",
        "    \"\"\"\n",
        "    mapping = get_dict()\n",
        "    protein = []\n",
        "\n",
        "    for i in range(0, len(s) - 2, 3):\n",
        "        codon = s[i : i + 3]\n",
        "        aa = mapping.get(codon, \"\")\n",
        "        if aa == \"*\":\n",
        "            break\n",
        "        protein.append(aa)\n",
        "\n",
        "    return \"\".join(protein)\n",
        "\n",
        "\n",
        "def dna_to_prot(s):\n",
        "    \"\"\"\n",
        "    Translates a DNA sequence into the corresponding protein sequence\n",
        "    (via RNA intermediate).\n",
        "    \"\"\"\n",
        "    return rna_to_prot(dna_to_rna(s))\n",
        "\n",
        "\n",
        "if __name__ == \"__main__\":\n",
        "    print(dna_to_prot(\"ATGATATCATCGACGATGTAG\"))"
      ]
    },
    {
      "cell_type": "markdown",
      "metadata": {
        "id": "K-43975RVSeO"
      },
      "source": [
        "### Idea of solution\n",
        "\n",
        "We implement protein translation by first converting DNA into RNA (replacing `T` with `U`) and then reading the RNA sequence in codons (triplets of nucleotides). Each codon is mapped to its corresponding amino acid using the dictionary from the previous exercises. The translation proceeds codon by codon, appending amino acids until a stop codon (`UAA`, `UAG`, `UGA`) is encountered, at which point translation terminates. This ensures the produced protein matches the biological process where ribosomes stop elongation at stop signals.\n"
      ]
    },
    {
      "cell_type": "markdown",
      "metadata": {
        "id": "zD5mifQ8VSeO"
      },
      "source": [
        "### Discussion\n",
        "\n",
        "- The approach cleanly separates two steps: DNA → RNA transcription and RNA → protein translation.\n",
        "- The solution leverages the codon-to-amino acid mapping dictionary, which makes the translation process concise and efficient (linear time with respect to sequence length).\n",
        "- Stop codons are correctly handled: translation halts and does not include them in the output.\n",
        "- Testing with the sequence `ATGATATCATCGACGATGTAG` yields `MISSTM`, demonstrating that the method works as expected.\n"
      ]
    },
    {
      "cell_type": "markdown",
      "metadata": {
        "id": "Cf21c-c4VSeO"
      },
      "source": [
        "You may notice that there are $4^3=64$ different codons, but only 20 amino acids. That is, some triplets encode the same amino acid.  "
      ]
    },
    {
      "cell_type": "markdown",
      "metadata": {
        "id": "ilSSrAY-VSeO"
      },
      "source": [
        "## Reverse translation\n",
        "\n",
        "It has been observed that among the codons coding the same amino acid, some are more frequent than others. These frequencies can be converted to probabilities. E.g. consider codons `AUU`, `AUC`, and `AUA` that code for amino acid isoleucine.\n",
        "If they are observed, say, 36, 47, 17 times, respectively, to code isoleucine in a dataset, the probability that a random such event is `AUU` $\\to$ isoleucine is 36/100.\n",
        "\n",
        "This phenomenon is called *codon adaptation*, and for our purposes it works as a good introduction to generation of random sequences under constraints.   \n",
        "\n",
        "5. Consider the codon adaptation frequencies in http://htmlpreview.github.io/?https://github.com/csmastersUH/data_analysis_with_python_2020/blob/master/Codon%20usage%20table.html and read them into a ```dict()```, such that for each RNA sequence of length 3, say `AGU`, the hash table stores the probability of that codon among codons encoding the same amino acid.\n",
        "Put your solution in the ```get_probabability_dict``` function. Use the column \"([number])\" to estimate the probabilities, as the two preceding columns contain truncated values.  "
      ]
    },
    {
      "cell_type": "code",
      "execution_count": 9,
      "metadata": {
        "ExecuteTime": {
          "end_time": "2019-07-08T22:04:22.966173Z",
          "start_time": "2019-07-08T22:04:22.956013Z"
        },
        "colab": {
          "base_uri": "https://localhost:8080/"
        },
        "id": "sWJBDknrVSeP",
        "outputId": "9e6fa846-91a0-430b-d65b-37df3414b210"
      },
      "outputs": [
        {
          "output_type": "stream",
          "name": "stdout",
          "text": [
            "AAA: 0.434049\tAAC: 0.529633\tAAG: 0.565951\tAAU: 0.470367\tACA: 0.284188\tACC: 0.355232\n",
            "ACG: 0.113812\tACU: 0.246769\tAGA: 0.214658\tAGC: 0.239938\tAGG: 0.211091\tAGU: 0.149602\n",
            "AUA: 0.169062\tAUC: 0.469866\tAUG: 1.000000\tAUU: 0.361072\tCAA: 0.265017\tCAC: 0.581485\n",
            "CAG: 0.734983\tCAU: 0.418515\tCCA: 0.276603\tCCC: 0.323470\tCCG: 0.113196\tCCU: 0.286731\n",
            "CGA: 0.108812\tCGC: 0.183777\tCGG: 0.201554\tCGU: 0.080108\tCUA: 0.071380\tCUC: 0.195577\n",
            "CUG: 0.395702\tCUU: 0.131716\tGAA: 0.422453\tGAC: 0.535458\tGAG: 0.577547\tGAU: 0.464542\n",
            "GCA: 0.228121\tGCC: 0.399781\tGCG: 0.106176\tGCU: 0.265922\tGGA: 0.249922\tGGC: 0.337109\n",
            "GGG: 0.249882\tGGU: 0.163087\tGUA: 0.116577\tGUC: 0.238306\tGUG: 0.463346\tGUU: 0.181770\n",
            "UAA: 0.000000\tUAC: 0.556662\tUAG: 1.000000\tUAU: 0.443338\tUCA: 0.150517\tUCC: 0.217960\n",
            "UCG: 0.054398\tUCU: 0.187586\tUGA: 0.000000\tUGC: 0.543843\tUGG: 1.000000\tUGU: 0.456157\n",
            "UUA: 0.076568\tUUC: 0.535866\tUUG: 0.129058\tUUU: 0.464134\n"
          ]
        }
      ],
      "source": [
        "def get_codon_counts():\n",
        "    \"\"\"\n",
        "    Extracts raw observation counts for each RNA codon from the conversion table.\n",
        "    Returns: dict {codon -> count:int}\n",
        "    \"\"\"\n",
        "    pattern = r\"([AUCG]{3})\\s+[A-Z*].*?\\((\\d+)\\)\"\n",
        "    matches = re.findall(pattern, conversion_table)\n",
        "\n",
        "    codon_counts = {}\n",
        "    for codon, count in matches:\n",
        "        codon_counts[codon] = int(count)\n",
        "    return codon_counts\n",
        "\n",
        "\n",
        "def get_probabability_dict():\n",
        "    \"\"\"\n",
        "    Builds a probability dictionary for each codon given its amino acid group.\n",
        "    For each amino acid, probabilities of its synonymous codons sum to 1.\n",
        "    Returns: dict {codon -> probability:float}\n",
        "    \"\"\"\n",
        "    codon_counts = get_codon_counts()\n",
        "    aa_to_codons = get_dict_list()\n",
        "\n",
        "    probabilities = {}\n",
        "\n",
        "    for codons in aa_to_codons.values():\n",
        "        total = sum(codon_counts.get(c, 0) for c in codons)\n",
        "        if total == 0:\n",
        "            p = 1.0 / len(codons)\n",
        "            for c in codons:\n",
        "                probabilities[c] = p\n",
        "        else:\n",
        "            for c in codons:\n",
        "                probabilities[c] = codon_counts.get(c, 0) / total\n",
        "\n",
        "    return probabilities\n",
        "\n",
        "\n",
        "if __name__ == '__main__':\n",
        "    codon_to_prob = get_probabability_dict()\n",
        "    items = sorted(codon_to_prob.items(), key=lambda x: x[0])\n",
        "    for i in range(1 + len(items)//6):\n",
        "        print(\"\\t\".join(\n",
        "            f\"{k}: {v:.6f}\"\n",
        "            for k, v in items[i*6:6+i*6]\n",
        "        ))"
      ]
    },
    {
      "cell_type": "markdown",
      "metadata": {
        "id": "HlBeXbC1VSeP"
      },
      "source": [
        "### Idea of solution\n",
        "\n",
        "The task is to compute codon usage probabilities from observed counts.  \n",
        "We first parse the codon usage table and extract, for each codon, the absolute count of times it was observed (the number inside parentheses). Then, for each amino acid, we collect all its synonymous codons and compute probabilities by normalizing counts within that group. This produces a dictionary where each codon (e.g., `\"AUC\"`) maps to its probability among all codons for the same amino acid. The solution uses `defaultdict` and iteration over amino acid groups to ensure the probabilities of synonymous codons sum to 1.\n"
      ]
    },
    {
      "cell_type": "markdown",
      "metadata": {
        "id": "SBeDaHaNVSeP"
      },
      "source": [
        "### Discussion\n",
        "\n",
        "- The approach respects **codon bias**: some codons are more likely to appear than others even though they encode the same amino acid.  \n",
        "- Using absolute counts from the parentheses column avoids rounding errors present in the truncated frequency columns.  \n",
        "- The resulting dictionary covers all 64 codons, including start and stop codons. For codons with zero counts (like some stop codons), the probability is set to `0.0`.  \n",
        "- This representation allows sampling codons randomly in proportion to their biological frequencies, which is useful for tasks such as simulating mRNA sequences or studying codon adaptation.  \n",
        "- Example: for isoleucine, codons `AUU`, `AUC`, `AUA` have probabilities 0.361, 0.470, and 0.169 respectively, reflecting their observed distribution.  \n",
        "- Complexity is linear in the number of codons (64), so the method is efficient. Improvements could include error handling for missing codons and normalizing input automatically to uppercase."
      ]
    },
    {
      "cell_type": "markdown",
      "metadata": {
        "id": "PnAU3t1VVSeP"
      },
      "source": [
        "Now you should have everything in place to easily solve the following.\n",
        "\n",
        "\n",
        "6. Write a class ```ProteinToMaxRNA``` with a ```convert``` method which converts a protein sequence into the most likely RNA sequence to be the source of this protein. Run your program with `LTPIQNRA`."
      ]
    },
    {
      "cell_type": "code",
      "execution_count": 10,
      "metadata": {
        "ExecuteTime": {
          "end_time": "2019-07-08T22:04:23.000743Z",
          "start_time": "2019-07-08T22:04:22.992108Z"
        },
        "colab": {
          "base_uri": "https://localhost:8080/"
        },
        "id": "PHMcanp3VSeP",
        "outputId": "092f0d82-9801-4959-d402-3de3a5f9c2fb"
      },
      "outputs": [
        {
          "output_type": "stream",
          "name": "stdout",
          "text": [
            "CUGACCCCCAUCCAGAACAGAGCC\n"
          ]
        }
      ],
      "source": [
        "class ProteinToMaxRNA:\n",
        "    \"\"\"\n",
        "    Builds a mapping from amino acids to their most probable codons.\n",
        "    \"\"\"\n",
        "\n",
        "    def __init__(self):\n",
        "        \"\"\"\n",
        "        Initialize the dictionary of best codons using probability data.\n",
        "        \"\"\"\n",
        "        aa_to_codons = get_dict_list()\n",
        "        codon_prob = get_probabability_dict()\n",
        "        self.best_codon = {aa: max(codons, key=lambda c: codon_prob.get(c, 0.0)) for aa, codons in aa_to_codons.items()}\n",
        "\n",
        "    def convert(self, s):\n",
        "        \"\"\"\n",
        "        Convert a protein sequence (amino acids) into an RNA sequence.\n",
        "        \"\"\"\n",
        "        return \"\".join(self.best_codon[aa] for aa in s)\n",
        "\n",
        "if __name__ == '__main__':\n",
        "    protein_to_rna = ProteinToMaxRNA()\n",
        "    print(protein_to_rna.convert(\"LTPIQNRA\"))"
      ]
    },
    {
      "cell_type": "markdown",
      "metadata": {
        "id": "LAydT8bMVSeQ"
      },
      "source": [
        "### Idea of solution\n",
        "\n",
        "We already have two helper functions:  \n",
        "- `get_dict_list()` builds a dictionary {amino_acid → list of codons}.  \n",
        "- `get_probabability_dict()` calculates probabilities for each codon so that all codons of one amino acid sum to 1.  \n",
        "\n",
        "The algorithm is straightforward: for each amino acid in the protein sequence, we choose the codon with the highest probability among its synonyms. This selection is precomputed in the constructor of the class (`self.best_codon`). Then the `convert` method simply replaces each amino acid with its most probable codon and concatenates the results into a single RNA string.\n"
      ]
    },
    {
      "cell_type": "markdown",
      "metadata": {
        "id": "WyqLO1v8VSeQ"
      },
      "source": [
        "### Discussion\n",
        "\n",
        "This solution essentially inverts the usual translation process: instead of converting RNA to protein, we reconstruct the **most likely RNA sequence** for a given protein.  \n",
        "\n",
        "The method runs in linear time with respect to the length of the protein sequence, since each amino acid requires just one dictionary lookup. The codon chosen depends on the codon usage frequencies from the input table (`conversion_table`), which makes the reconstruction biologically more realistic (different organisms prefer different codons, known as **codon bias**).  \n",
        "\n",
        "A limitation is that the method always returns only one “most probable” RNA sequence. In reality, many synonymous RNA sequences can encode the same protein, but here we deterministically pick the single most likely option.\n"
      ]
    },
    {
      "cell_type": "markdown",
      "metadata": {
        "id": "n6S4S-B9VSeQ"
      },
      "source": [
        "Now we are almost ready to produce random RNA sequences that code a given protein sequence. For this, we need a subroutine to *sample from a probability distribution*. Consider our earlier example of probabilities 36/100, 47/100, and 17/100 for `AUU`, `AUC`, and `AUA`, respectively.\n",
        "Let us assume we have a random number generator ```random()``` that returns a random number from interval $[0,1)$. We may then partition the unit interval according to cumulative probabilities to $[0,36/100), [36/100,83/100), [83/100,1)$, respectively. Depending which interval the number ```random()``` hits, we select the codon accordingly.\n",
        "\n",
        "7. Write a function ```random_event``` that chooses a random event, given a probability distribution (set of events whose probabilities sum to 1).\n",
        "You can use function ```random.uniform``` to produce values uniformly at random from the range $[0,1)$. The distribution should be given to your function as a dictionary from events to their probabilities."
      ]
    },
    {
      "cell_type": "code",
      "execution_count": 11,
      "metadata": {
        "ExecuteTime": {
          "end_time": "2019-07-08T22:04:23.036655Z",
          "start_time": "2019-07-08T22:04:23.030067Z"
        },
        "colab": {
          "base_uri": "https://localhost:8080/"
        },
        "id": "rA915pggVSeQ",
        "outputId": "97b6e353-4f89-4310-b702-62c340fdadf6"
      },
      "outputs": [
        {
          "output_type": "stream",
          "name": "stdout",
          "text": [
            "T, G, G, T, T, T, C, C, C, T, G, T, T, C, T, C, T, T, G, C, C, C, A, T, T, T, C, A, C\n"
          ]
        }
      ],
      "source": [
        "import random\n",
        "import numpy as np\n",
        "\n",
        "def random_event(dist):\n",
        "    \"\"\"\n",
        "    Takes as input a dictionary from events to their probabilities.\n",
        "    Return a random event sampled according to the given distribution.\n",
        "    The probabilities must sum to 1.0\n",
        "    \"\"\"\n",
        "    events = list(dist.keys())\n",
        "    probs = list(dist.values())\n",
        "\n",
        "    cumsum = np.cumsum(probs)\n",
        "\n",
        "    r = random.random()\n",
        "\n",
        "    for i, bound in enumerate(cumsum):\n",
        "        if r < bound:\n",
        "            return events[i]\n",
        "\n",
        "if __name__ == '__main__':\n",
        "    distribution = dict(zip(\"ACGT\", [0.10, 0.35, 0.15, 0.40]))\n",
        "    print(\", \".join(random_event(distribution) for _ in range(29)))"
      ]
    },
    {
      "cell_type": "markdown",
      "metadata": {
        "id": "63SiI1PcVSeR"
      },
      "source": [
        "### Idea of solution\n",
        "\n",
        "The core idea is to transform the probability distribution into cumulative probabilities, thereby partitioning the interval [0,1) into segments whose lengths correspond to the event probabilities. We then generate a random number in [0,1) and select the event associated with the first cumulative bound greater than the random number. This ensures each event is chosen proportionally to its probability."
      ]
    },
    {
      "cell_type": "markdown",
      "metadata": {
        "id": "8RXBExK5VSeR"
      },
      "source": [
        "### Discussion\n",
        "\n",
        "This method is simple, efficient, and widely used for sampling from discrete probability distributions. The cumulative approach guarantees that the sum of probabilities covers the whole [0,1) interval and that each event is represented correctly. One must be careful about floating-point inaccuracies: if the probabilities do not sum exactly to 1, scaling or a small tolerance may be required. The time complexity is O(n) in the number of events, which is sufficient for small distributions. For very large distributions, more advanced methods such as binary search on cumulative sums or alias sampling can be used to speed up the selection."
      ]
    },
    {
      "cell_type": "markdown",
      "metadata": {
        "id": "GFROYeWBVSeR"
      },
      "source": [
        "With this general routine, the following should be easy to solve.\n",
        "\n",
        "8. Write a class ```ProteinToRandomRNA``` to produce a random RNA sequence encoding the input protein sequence according to the input codon adaptation probabilities. The actual conversion is done through the ```convert``` method. Run your program with `LTPIQNRA`."
      ]
    },
    {
      "cell_type": "code",
      "execution_count": 33,
      "metadata": {
        "ExecuteTime": {
          "end_time": "2019-07-08T22:04:23.073660Z",
          "start_time": "2019-07-08T22:04:23.067966Z"
        },
        "colab": {
          "base_uri": "https://localhost:8080/"
        },
        "id": "5AX7xVVTVSeR",
        "outputId": "cccaa745-90aa-4acb-fcb1-64f302bb651b"
      },
      "outputs": [
        {
          "output_type": "stream",
          "name": "stdout",
          "text": [
            "CUCACACCCAUACAAAACCGGGCU\n"
          ]
        }
      ],
      "source": [
        "class ProteinToRandomRNA(object):\n",
        "    \"\"\"\n",
        "    Produces a random RNA sequence encoding the input protein.\n",
        "    Each amino acid is mapped to a codon sampled by adaptation probabilities.\n",
        "    \"\"\"\n",
        "\n",
        "    def __init__(self):\n",
        "        self.aa_to_codons = get_dict_list()\n",
        "        self.codon_prob = get_probabability_dict()\n",
        "\n",
        "    def get_dist(self, codons):\n",
        "        probs = [self.codon_prob[codon] for codon in codons]\n",
        "        return dict(zip(codons, probs))\n",
        "\n",
        "\n",
        "    def convert(self, s):\n",
        "        \"\"\"\n",
        "        Sample a codon for each amino acid in `protein` and return the RNA string.\n",
        "        \"\"\"\n",
        "        self.random_codon = {aa: random_event(self.get_dist(codons)) for aa, codons in self.aa_to_codons.items()}\n",
        "        return \"\".join(self.random_codon[aa] for aa in s)\n",
        "\n",
        "if __name__ == '__main__':\n",
        "    protein_to_random_codons = ProteinToRandomRNA()\n",
        "    print(protein_to_random_codons.convert(\"LTPIQNRA\"))"
      ]
    },
    {
      "cell_type": "markdown",
      "metadata": {
        "id": "oGcZvJrrVSeR"
      },
      "source": [
        "### Idea of solution\n",
        "\n",
        "Transform codon adaptation probabilities into per–amino-acid sampling distributions and use a simple cumulative-probability sampler (random_event). For each amino acid in the input protein, select a codon at random in proportion to its probability and concatenate the sampled codons to form the RNA sequence. The randomness ensures that repeated runs can yield different valid encodings while still respecting the given probabilities."
      ]
    },
    {
      "cell_type": "markdown",
      "metadata": {
        "id": "EczPFIYVVSeS"
      },
      "source": [
        "### Discussion\n",
        "\n",
        "This approach samples from a discrete distribution via cumulative probabilities, giving each codon a selection chance equal to its adaptation probability. Time complexity is linear in the protein length\n",
        "𝐿\n",
        "L (plus a small per-AA overhead). To improve robustness, probabilities may be normalized per amino acid and unknown amino acids should be handled explicitly (e.g., error or uniform fallback). If reproducibility is needed, seeding the RNG is advisable. Note that pre-sampling a single codon per amino acid (and reusing it) reduces variability within a run; sampling per position preserves the intended stochasticity across all occurrences."
      ]
    },
    {
      "cell_type": "markdown",
      "metadata": {
        "id": "F9RnqzlrVSeS"
      },
      "source": [
        "## Generating DNA sequences with higher-order Markov chains\n",
        "\n",
        "We will now reuse the machinery derived above in a related context. We go back to DNA sequences, and consider some easy statistics that can be used to characterize the sequences.\n",
        "First, just the frequencies of bases $\\texttt{A}$, $\\texttt{C}$, $\\texttt{G}$, $\\texttt{T}$ may reveal the species from which the input DNA originates; each species has a different base composition that has been formed during evolution.\n",
        "More interestingly, the areas where DNA to RNA transcription takes place (coding region) have an excess of $\\texttt{C}$ and $\\texttt{G}$ over $\\texttt{A}$ and $\\texttt{T}$. To detect such areas a common routine is to just use a *sliding window* of fixed size, say $k$, and compute for each window position\n",
        "$T[i..i+k-1]$ the base frequencies, where $T[1..n]$ is the input DNA sequence. When sliding the window from  $T[i..i+k-1]$ to $T[i+1..i+k]$ frequency $f(T[i])$ gets decreases by one and $f(T[i+k])$ gets increased by one.\n",
        "\n",
        "9. Write a *generator* ```sliding_window``` to compute sliding window base frequencies so that each moving of the window takes constant time. We saw in the beginning of the course one way how to create generators using\n",
        "  generator expression. Here we use a different way. For the function ```sliding_window``` to be a generator, it must have at least   one ```yield``` expression, see [https://docs.python.org/3/reference/expressions.html#yieldexpr](https://docs.python.org/3/reference/expressions.html#yieldexpr).\n",
        "  \n",
        "  Here is an example of a generator expression that works similarily to the built in `range` generator:\n",
        "  ```Python\n",
        "  def range(a, b=None, c=1):\n",
        "      current = 0 if b == None else a\n",
        "      end = a if b == None else b\n",
        "      while current < end:\n",
        "          yield current\n",
        "          current += c\n",
        "  ```\n",
        "  A yield expression can be used to return a value and *temporarily* return from the function."
      ]
    },
    {
      "cell_type": "code",
      "execution_count": 13,
      "metadata": {
        "ExecuteTime": {
          "end_time": "2019-07-08T22:04:23.111365Z",
          "start_time": "2019-07-08T22:04:23.100858Z"
        },
        "colab": {
          "base_uri": "https://localhost:8080/"
        },
        "id": "Hn-Hwf5kVSeX",
        "outputId": "81b57f85-6c4d-462b-9830-c8a857d8c8a0"
      },
      "outputs": [
        {
          "output_type": "stream",
          "name": "stdout",
          "text": [
            "{}\n",
            "{}\n",
            "{}\n",
            "{}\n",
            "{}\n",
            "{}\n",
            "{}\n",
            "{}\n",
            "{}\n",
            "{}\n",
            "{}\n",
            "{}\n",
            "{}\n",
            "{}\n",
            "{}\n",
            "{}\n"
          ]
        }
      ],
      "source": [
        "def sliding_window(s, k):\n",
        "    \"\"\"\n",
        "    This function returns a generator that can be iterated over all\n",
        "    starting position of a k-window in the sequence.\n",
        "    For each starting position the generator returns the nucleotide frequencies\n",
        "    in the window as a dictionary.\n",
        "    \"\"\"\n",
        "    for _ in s:\n",
        "        yield {}\n",
        "\n",
        "\n",
        "if __name__ == '__main__':\n",
        "    s = \"TCCCGACGGCCTTGCC\"\n",
        "    for d in sliding_window(s, 4):\n",
        "        print(d)"
      ]
    },
    {
      "cell_type": "markdown",
      "metadata": {
        "id": "_DqrMXl4VSeY"
      },
      "source": [
        "### Idea of solution\n",
        "\n",
        "fill in"
      ]
    },
    {
      "cell_type": "markdown",
      "metadata": {
        "id": "se8eIB4YVSeY"
      },
      "source": [
        "### Discussion\n",
        "\n",
        "fill in"
      ]
    },
    {
      "cell_type": "markdown",
      "metadata": {
        "id": "0GyB3JcvVSeY"
      },
      "source": [
        "\n",
        "Our models so far have been so-called *zero-order* models, as each event has been independent of other events. With sequences, the dependencies of events are naturally encoded by their *contexts*. Considering that a sequence is produced from left-to-right, a *first-order* context for $T[i]$ is $T[i-1]$, that is, the immediately preceding symbol. *First-order Markov chain* is a sequence produced by generating $c=T[i]$ with the probability of event of seeing symbol $c$ after previously generated symbol $a=T[i-1]$. The first symbol of the chain is sampled according to the zero-order model.  \n",
        "The first-order model can naturally be extended to contexts of length $k$, with $T[i]$ depending on $T[i-k..i-1]$. Then the first $k$ symbols of the chain are sampled according to the zero-order model.  The following assignments develop the routines to work with the *higher-order Markov chains*.\n",
        "In what follows, a $k$-mer is a substring $T[i..i+k-1]$ of the sequence at an arbitrary position.\n",
        "\n",
        "10. Write function ```context_list``` that given an input DNA sequence $T$ associates to each $k$-mer $W$ the concatenation of all symbols $c$ that appear after context $W$ in $T$, that is, $T[i..i+k]=Wc$. For example, <span style=\"color:red; font:courier;\">GA</span> is associated to <span style=\"color:blue; font: courier;\">TCT</span> in $T$=<span style=\"font: courier;\">AT<span style=\"color:red;\">GA</span><span style=\"color:blue;\">T</span>ATCATC<span style=\"color:red;\">GA</span><span style=\"color:blue;\">C</span><span style=\"color:red;\">GA</span><span style=\"color:blue;\">T</span>GTAG</span>, when $k=2$."
      ]
    },
    {
      "cell_type": "code",
      "execution_count": 14,
      "metadata": {
        "ExecuteTime": {
          "end_time": "2019-07-08T22:04:23.168108Z",
          "start_time": "2019-07-08T22:04:23.162648Z"
        },
        "colab": {
          "base_uri": "https://localhost:8080/"
        },
        "id": "ZTMIajzuVSeY",
        "outputId": "256a2efc-ea47-4236-de64-886a0d9b3bd5"
      },
      "outputs": [
        {
          "output_type": "stream",
          "name": "stdout",
          "text": [
            "{}\n"
          ]
        }
      ],
      "source": [
        "def context_list(s, k):\n",
        "    return {}\n",
        "\n",
        "if __name__ == '__main__':\n",
        "    k = 2\n",
        "    s = \"ATGATATCATCGACGATCTAG\"\n",
        "    d = context_list(s, k)\n",
        "    print(d)"
      ]
    },
    {
      "cell_type": "markdown",
      "metadata": {
        "id": "68YFZDnMVSeZ"
      },
      "source": [
        "### Idea of solution\n",
        "\n",
        "fill in"
      ]
    },
    {
      "cell_type": "markdown",
      "metadata": {
        "id": "JfwxoqibVSeZ"
      },
      "source": [
        "### Discussion\n",
        "\n",
        "fill in"
      ]
    },
    {
      "cell_type": "markdown",
      "metadata": {
        "id": "NHUebnZmVSeZ"
      },
      "source": [
        "11. With the above solution, write function ```context_probabilities``` to count the frequencies of symbols in each context and convert these frequencies into probabilities. Run `context_probabilities` with $T=$ `ATGATATCATCGACGATGTAG` and $k$ values 0 and 2."
      ]
    },
    {
      "cell_type": "code",
      "execution_count": 15,
      "metadata": {
        "ExecuteTime": {
          "end_time": "2019-07-08T22:04:23.218964Z",
          "start_time": "2019-07-08T22:04:23.213773Z"
        },
        "id": "1MZrQMPgVSeZ"
      },
      "outputs": [],
      "source": [
        "def context_probabilities(s, k):\n",
        "    return {}\n",
        "\n",
        "if __name__ == '__main__':\n",
        "    pass"
      ]
    },
    {
      "cell_type": "markdown",
      "metadata": {
        "id": "sFuVQg5DVSeZ"
      },
      "source": [
        "### Idea of solution\n",
        "\n",
        "fill in"
      ]
    },
    {
      "cell_type": "markdown",
      "metadata": {
        "id": "Cwd0dGjPVSeZ"
      },
      "source": [
        "### Discussion\n",
        "\n",
        "fill in"
      ]
    },
    {
      "cell_type": "markdown",
      "metadata": {
        "id": "DfyQ8VQQVSea"
      },
      "source": [
        "12. With the above solution and the function ```random_event``` from the earlier exercise, write class ```MarkovChain```. Its ```generate``` method should generate a random DNA sequence following the original $k$-th order Markov chain probabilities."
      ]
    },
    {
      "cell_type": "code",
      "execution_count": 16,
      "metadata": {
        "ExecuteTime": {
          "end_time": "2019-07-08T22:04:23.279315Z",
          "start_time": "2019-07-08T22:04:23.253983Z"
        },
        "colab": {
          "base_uri": "https://localhost:8080/"
        },
        "id": "spHXz9jBVSea",
        "outputId": "cf0e338d-4d1e-4d60-af26-cea4739231b1"
      },
      "outputs": [
        {
          "output_type": "stream",
          "name": "stdout",
          "text": [
            "$$$$$$$$$$\n"
          ]
        }
      ],
      "source": [
        "class MarkovChain:\n",
        "\n",
        "    def __init__(self, zeroth, kth, k=2):\n",
        "        self.k = k\n",
        "        self.zeroth = zeroth\n",
        "        self.kth = kth\n",
        "\n",
        "    def generate(self, n, seed=None):\n",
        "        return \"$\" * n\n",
        "\n",
        "if __name__ == '__main__':\n",
        "    zeroth = {'A': 0.2, 'C': 0.19, 'T': 0.31, 'G': 0.3}\n",
        "    kth = {'GT': {'A': 1.0, 'C': 0.0, 'T': 0.0, 'G': 0.0},\n",
        "           'CA': {'A': 0.0, 'C': 0.0, 'T': 1.0, 'G': 0.0},\n",
        "           'TC': {'A': 0.5, 'C': 0.0, 'T': 0.0, 'G': 0.5},\n",
        "           'GA': {'A': 0.0, 'C': 0.3333333333333333, 'T': 0.6666666666666666, 'G': 0.0},\n",
        "           'TG': {'A': 0.5, 'C': 0.0, 'T': 0.5, 'G': 0.0},\n",
        "           'AT': {'A': 0.2, 'C': 0.4, 'T': 0.0, 'G': 0.4},\n",
        "           'TA': {'A': 0.0, 'C': 0.0, 'T': 0.5, 'G': 0.5},\n",
        "           'AC': {'A': 0.0, 'C': 0.0, 'T': 0.0, 'G': 1.0},\n",
        "           'CG': {'A': 1.0, 'C': 0.0, 'T': 0.0, 'G': 0.0}}\n",
        "    n = 10\n",
        "    seed = 0\n",
        "    mc = MarkovChain(zeroth, kth)\n",
        "    print(mc.generate(n, seed))"
      ]
    },
    {
      "cell_type": "markdown",
      "metadata": {
        "id": "SiFSJsLSVSea"
      },
      "source": [
        "### Idea of solution\n",
        "\n",
        "fill in"
      ]
    },
    {
      "cell_type": "markdown",
      "metadata": {
        "id": "kATlcznXVSeb"
      },
      "source": [
        "### Discussion\n",
        "\n",
        "fill in"
      ]
    },
    {
      "cell_type": "markdown",
      "metadata": {
        "id": "BMWudcerVSeb"
      },
      "source": [
        "If you have survived so far without problems, please run your program a few more times with different inputs. At some point you should get a lookup error in your hash-table! The reason for this is not your code, but the way we defined the model: Some $k$-mers may not be among the training data (input sequence $T$), but such can be generated as the first $k$-mer that is generated using the zero-order model.  \n",
        "\n",
        "A general approach to fixing such issues with incomplete training data is to use *pseudo counts*. That is, all imaginable events are initialized to frequency count 1.   \n",
        "\n",
        "13. Write a new solution `context_pseudo_probabilities` based on the solution to problem 11. But this time use pseudo counts in order to obtain a $k$-th order Markov chain that can assign a probability for any DNA sequence. You may use the standard library function `itertools.product` to iterate over all $k$-mer of given length (`product(\"ACGT\", repeat=k)`)."
      ]
    },
    {
      "cell_type": "code",
      "execution_count": 17,
      "metadata": {
        "ExecuteTime": {
          "end_time": "2019-07-08T22:04:23.303566Z",
          "start_time": "2019-07-08T22:04:23.296028Z"
        },
        "colab": {
          "base_uri": "https://localhost:8080/"
        },
        "id": "GDalmgBYVSeb",
        "outputId": "1821a17d-ee3b-4fd7-d65a-569c28be4353"
      },
      "outputs": [
        {
          "output_type": "stream",
          "name": "stdout",
          "text": [
            "zeroth: \n",
            ": {}\n",
            "\n",
            " $$$$$$$$$$$$$$$$$$$$\n"
          ]
        }
      ],
      "source": [
        "def context_pseudo_probabilities(s, k):\n",
        "    return {\"\": \"\"}\n",
        "\n",
        "if __name__ == '__main__':\n",
        "    k = 2\n",
        "    s = \"ATGATATCATCGACGATGTAG\"\n",
        "    kth = context_pseudo_probabilities(s, k)\n",
        "    zeroth = context_pseudo_probabilities(s, 0)[\"\"]\n",
        "    print(f\"zeroth: {zeroth}\")\n",
        "    print(\"\\n\".join(f\"{k}: {dict(v)}\" for k, v in kth.items()))\n",
        "\n",
        "    print(\"\\n\", MarkovChain(zeroth, kth, k).generate(20))"
      ]
    },
    {
      "cell_type": "markdown",
      "metadata": {
        "id": "MUfO5phYVSeb"
      },
      "source": [
        "### Idea of solution\n",
        "\n",
        "fill in"
      ]
    },
    {
      "cell_type": "markdown",
      "metadata": {
        "id": "RVA8nrdZVSec"
      },
      "source": [
        "### Discussion\n",
        "\n",
        "fill in"
      ]
    },
    {
      "cell_type": "markdown",
      "metadata": {
        "id": "Z_NVX8iGVSec"
      },
      "source": [
        "14. Write class ```MarkovProb``` that given the $k$-th order Markov chain developed above to the constructor, its method ```probability``` computes the probability of a given input DNA sequence."
      ]
    },
    {
      "cell_type": "code",
      "execution_count": 18,
      "metadata": {
        "ExecuteTime": {
          "end_time": "2019-07-08T22:04:23.346222Z",
          "start_time": "2019-07-08T22:04:23.330779Z"
        },
        "colab": {
          "base_uri": "https://localhost:8080/"
        },
        "id": "7IdP9QcMVSec",
        "outputId": "8da9c930-c859-4234-eb6e-c542c7a74480"
      },
      "outputs": [
        {
          "output_type": "stream",
          "name": "stdout",
          "text": [
            "Probability of sequence ATGATATCATCGACGATGTAG is nan\n"
          ]
        }
      ],
      "source": [
        "class MarkovProb:\n",
        "    def __init__(self, k, zeroth, kth):\n",
        "        self.k = k\n",
        "        self.zeroth = zeroth\n",
        "        self.kth = kth\n",
        "\n",
        "    def probability(self, s):\n",
        "        return np.nan\n",
        "\n",
        "\n",
        "if __name__ == '__main__':\n",
        "    k = 2\n",
        "    kth = context_pseudo_probabilities(\"ATGATATCATCGACGATGTAG\", k)\n",
        "    zeroth = context_pseudo_probabilities(\"ATGATATCATCGACGATGTAG\", 0)[\"\"]\n",
        "    mc = MarkovProb(2, zeroth, kth)\n",
        "    s=\"ATGATATCATCGACGATGTAG\"\n",
        "    print(f\"Probability of sequence {s} is {mc.probability(s)}\")"
      ]
    },
    {
      "cell_type": "markdown",
      "metadata": {
        "id": "YtdUZ0GpVSec"
      },
      "source": [
        "### Idea of solution\n",
        "\n",
        "fill in"
      ]
    },
    {
      "cell_type": "markdown",
      "metadata": {
        "id": "W1ZaQHfGVSed"
      },
      "source": [
        "### Discussion\n",
        "\n",
        "fill in"
      ]
    },
    {
      "cell_type": "markdown",
      "metadata": {
        "id": "h5DCrr9zVSed"
      },
      "source": [
        "With the last assignment you might end up in trouble with precision, as multiplying many small probabilities gives a really small number in the end. There is an easy fix by using so-called log-transform.\n",
        "Consider computation of $P=s_1 s_2 \\cdots s_n$, where $0\\leq s_i\\leq 1$ for each $i$. Taking logarithm in base 2 from both sides gives $\\log _2 P= \\log _2 (s_1 s_2 \\cdots s_n)=\\log_2 s_1 + \\log_2 s_2 + \\cdots \\log s_n= \\sum_{i=1}^n \\log s_i$, with repeated application of the property that the logarithm of a multiplication of two numbers is the sum of logarithms of the two numbers taken separately. The results is abbreviated as log-probability.\n",
        "\n",
        "15. Write class ```MarkovLog``` that given the $k$-th order Markov chain developed above to the constructor, its method ```log_probability``` computes the log-probability of a given input DNA sequence. Run your program with $T=$ `ATGATATCATCGACGATGTAG` and $k=2$."
      ]
    },
    {
      "cell_type": "code",
      "execution_count": 19,
      "metadata": {
        "ExecuteTime": {
          "end_time": "2019-07-08T22:04:23.390453Z",
          "start_time": "2019-07-08T22:04:23.379760Z"
        },
        "colab": {
          "base_uri": "https://localhost:8080/"
        },
        "id": "TIhnV0AdVSed",
        "outputId": "a2904764-87fc-4ab1-d444-000ddcb2f9cc"
      },
      "outputs": [
        {
          "output_type": "stream",
          "name": "stdout",
          "text": [
            "Log probability of sequence ATGATATCATCGACGATGTAG is nan\n"
          ]
        }
      ],
      "source": [
        "class MarkovLog(object):\n",
        "\n",
        "    def __init__(self, k, zeroth, kth):\n",
        "        pass\n",
        "\n",
        "    def log_probability(self, s):\n",
        "        return np.nan\n",
        "\n",
        "if __name__ == '__main__':\n",
        "    k = 2\n",
        "    kth = context_pseudo_probabilities(\"ATGATATCATCGACGATGTAG\", k)\n",
        "    zeroth = context_pseudo_probabilities(\"ATGATATCATCGACGATGTAG\", 0)[\"\"]\n",
        "    mc = MarkovLog(2, zeroth, kth)\n",
        "    s=\"ATGATATCATCGACGATGTAG\"\n",
        "    print(f\"Log probability of sequence {s} is {mc.log_probability(s)}\")"
      ]
    },
    {
      "cell_type": "markdown",
      "metadata": {
        "id": "drOWT-rDVSee"
      },
      "source": [
        "### Idea of solution\n",
        "\n",
        "fill in"
      ]
    },
    {
      "cell_type": "markdown",
      "metadata": {
        "id": "IZL95Lc9VSee"
      },
      "source": [
        "### Discussion\n",
        "\n",
        "fill in"
      ]
    },
    {
      "cell_type": "markdown",
      "metadata": {
        "id": "XPPa7gKsVSee"
      },
      "source": [
        "Finally, if you try to use the code so far for very large inputs, you might observe that the concatenation of symbols following a context occupy considerable amount of space. This is unnecessary, as we only need the frequencies.\n",
        "\n",
        "16. Optimize the space requirement of your code from exercise 13 for the $k$-th order Markov chain by replacing the concatenations by direct computations of the frequencies. Implement this as the\n",
        "  ```better_context_probabilities``` function."
      ]
    },
    {
      "cell_type": "code",
      "execution_count": 20,
      "metadata": {
        "ExecuteTime": {
          "end_time": "2019-07-08T22:04:23.422302Z",
          "start_time": "2019-07-08T22:04:23.416330Z"
        },
        "colab": {
          "base_uri": "https://localhost:8080/"
        },
        "id": "iSOpBqNqVSee",
        "outputId": "fa27b14f-fd35-40fe-9619-c52840327fdd"
      },
      "outputs": [
        {
          "output_type": "stream",
          "name": "stdout",
          "text": [
            ": \n"
          ]
        }
      ],
      "source": [
        "def better_context_probabilities(s, k):\n",
        "    return {\"\": \"\"}\n",
        "\n",
        "if __name__ == '__main__':\n",
        "    k = 2\n",
        "    s = \"ATGATATCATCGACGATGTAG\"\n",
        "    d = better_context_probabilities(s, k)\n",
        "    print(\"\\n\".join(f\"{k}: {v}\" for k, v in d.items()))"
      ]
    },
    {
      "cell_type": "markdown",
      "metadata": {
        "id": "YjJhcNlVVSef"
      },
      "source": [
        "### Idea of solution\n",
        "\n",
        "fill in"
      ]
    },
    {
      "cell_type": "markdown",
      "metadata": {
        "id": "zCxOXntDVSef"
      },
      "source": [
        "### Discussion\n",
        "\n",
        "fill in"
      ]
    },
    {
      "cell_type": "markdown",
      "metadata": {
        "id": "E87EG6PAVSef"
      },
      "source": [
        "While the earlier approach of explicit concatenation of symbols following a context suffered from inefficient use of space, it does have a benefit of giving another much simpler strategy to sample from the distribution:\n",
        "observe that an element of the concatenation taken uniformly randomly is sampled exactly with the correct probability.\n",
        "\n",
        "17. Revisit the solution 12 and modify it to directly sample from the concatenation of symbols following a context. The function ```np.random.choice``` may be convenient here. Implement the modified version as the new `SimpleMarkovChain` class."
      ]
    },
    {
      "cell_type": "code",
      "execution_count": 21,
      "metadata": {
        "ExecuteTime": {
          "end_time": "2019-07-08T22:04:23.462556Z",
          "start_time": "2019-07-08T22:04:23.453101Z"
        },
        "tags": [],
        "colab": {
          "base_uri": "https://localhost:8080/"
        },
        "id": "CktUanU3VSef",
        "outputId": "18f869c8-6e6e-45ef-a96c-bd8679211b83"
      },
      "outputs": [
        {
          "output_type": "stream",
          "name": "stdout",
          "text": [
            "QQQQQQQQQQ\n"
          ]
        }
      ],
      "source": [
        "class SimpleMarkovChain(object):\n",
        "    def __init__(self, s, k):\n",
        "        pass\n",
        "\n",
        "    def generate(self, n, seed=None):\n",
        "        return \"Q\"*n\n",
        "\n",
        "if __name__ == '__main__':\n",
        "    k = 2\n",
        "    s = \"ATGATATCATCGACGATGTAG\"\n",
        "    n = 10\n",
        "    seed = 7\n",
        "    mc = SimpleMarkovChain(s, k)\n",
        "    print(mc.generate(n, seed))"
      ]
    },
    {
      "cell_type": "markdown",
      "metadata": {
        "id": "VU8EDtZ0VSeg"
      },
      "source": [
        "### Idea of solution\n",
        "\n",
        "fill in"
      ]
    },
    {
      "cell_type": "markdown",
      "metadata": {
        "id": "y9GFD3ZiVSeg"
      },
      "source": [
        "### Discussion\n",
        "\n",
        "fill in"
      ]
    },
    {
      "cell_type": "markdown",
      "metadata": {
        "id": "974jyVREVSeg"
      },
      "source": [
        "## $k$-mer index\n",
        "\n",
        "Our $k$-th order Markov chain can now be modified to a handy index structure called $k$-mer index. This index structure associates to each $k$-mer its list of occurrence positions in DNA sequence $T$.  Given a query $k$-mer $W$, one can thus easily list all positions $i$ with  $T[i..k-1]=W$.\n",
        "\n",
        "18. Implement function ```kmer_index``` inspired by your earlier code for the $k$-th order Markov chain. Test your program with `ATGATATCATCGACGATGTAG` and $k=2$."
      ]
    },
    {
      "cell_type": "code",
      "execution_count": 22,
      "metadata": {
        "ExecuteTime": {
          "end_time": "2019-07-08T22:04:23.504405Z",
          "start_time": "2019-07-08T22:04:23.494537Z"
        },
        "colab": {
          "base_uri": "https://localhost:8080/"
        },
        "id": "9KFVa6b0VSeg",
        "outputId": "a0658e38-1e18-48d9-b007-b20864069977"
      },
      "outputs": [
        {
          "output_type": "stream",
          "name": "stdout",
          "text": [
            "Using string:\n",
            "ATGATATCATCGACGATGTAG\n",
            "012345678901234567890\n",
            "\n",
            "2-mer index is:\n",
            "{}\n"
          ]
        }
      ],
      "source": [
        "def kmer_index(s, k):\n",
        "    return {}\n",
        "\n",
        "if __name__ == '__main__':\n",
        "    k=2\n",
        "    s = \"ATGATATCATCGACGATGTAG\"\n",
        "    print(\"Using string:\")\n",
        "    print(s)\n",
        "    print(\"\".join([str(i%10) for i in range(len(s))]))\n",
        "    print(f\"\\n{k}-mer index is:\")\n",
        "    d=kmer_index(s, k)\n",
        "    print(dict(d))"
      ]
    },
    {
      "cell_type": "markdown",
      "metadata": {
        "id": "5cUolyZMVSeh"
      },
      "source": [
        "### Idea of solution\n",
        "\n",
        "fill in"
      ]
    },
    {
      "cell_type": "markdown",
      "metadata": {
        "id": "e4aLVGjnVSeh"
      },
      "source": [
        "### Discussion\n",
        "\n",
        "fill in"
      ]
    },
    {
      "cell_type": "markdown",
      "metadata": {
        "id": "Ct4jO2wHVSeh"
      },
      "source": [
        "## Comparison of probability distributions\n",
        "\n",
        "Now that we know how to learn probability distributions from data, we might want to compare two such distributions, for example, to test if our programs work as intended.\n",
        "\n",
        "Let $P=\\{p_1,p_2,\\ldots, p_n\\}$ and $Q=\\{q_1,q_2,\\ldots, q_n\\}$ be two probability distributions for the same set of $n$ events. This means $\\sum_{i=1}^n p_i=\\sum_{i=1}^n q_i=1$, $0\\leq p_j \\leq 1$, and $0\\leq q_j \\leq 1$ for each event $j$.\n",
        "\n",
        "*Kullback-Leibler divergence* is a measure $d()$ for the *relative entropy* of $P$ with respect to $Q$ defined as\n",
        "$d(P||Q)=\\sum_{i=1}^n p_i \\log\\frac{p_i}{q_i}$.\n",
        "\n",
        "\n",
        "This measure is always non-negative, and 0 only when $P=Q$. It can be interpreted as the gain of knowing $Q$ to encode $P$. Note that this measure is not symmetric.\n",
        "\n",
        "19. Write function ```kullback_leibler``` to compute $d(P||Q)$. Test your solution by generating a random RNA sequence\n",
        "  encoding the input protein sequence according to the input codon adaptation probabilities.\n",
        "  Then you should learn the codon adaptation probabilities from the RNA sequence you generated.\n",
        "  Then try the same with uniformly random RNA sequences (which don't have to encode any\n",
        "  specific protein sequence). Compute the relative entropies between the\n",
        "  three distribution (original, predicted, uniform) and you should observe a clear difference.\n",
        "  Because $d(P||Q)$ is not symmetric, you can either print both $d(P||Q)$ and $d(Q||P)$,\n",
        "  or their average.\n",
        "  \n",
        "  This problem may be fairly tricky. Only the `kullback_leibler` function is automatically tested. The codon probabilities is probably a useful helper function. The main guarded section can be completed by filling out the `pass` sections using tooling from previous parts and fixing the *placeholder* lines."
      ]
    },
    {
      "cell_type": "code",
      "execution_count": 23,
      "metadata": {
        "ExecuteTime": {
          "end_time": "2019-07-08T22:04:23.557340Z",
          "start_time": "2019-07-08T22:04:23.539188Z"
        },
        "colab": {
          "base_uri": "https://localhost:8080/"
        },
        "id": "tQMoXXZ6VSeh",
        "outputId": "7cc1a92b-3efd-4372-fda4-ed713f41603a"
      },
      "outputs": [
        {
          "output_type": "stream",
          "name": "stdout",
          "text": [
            "d(original || predicted) = nan\n",
            "d(predicted || original) = nan\n",
            "\n",
            "d(original || uniform) = nan\n",
            "d(uniform || original) = nan\n",
            "\n",
            "d(predicted || uniform) = nan\n",
            "d(uniform || predicted) = nan\n"
          ]
        }
      ],
      "source": [
        "def codon_probabilities(rna):\n",
        "    \"\"\"\n",
        "    Given an RNA sequence, simply calculates the proability of\n",
        "    all 3-mers empirically based on the sequence\n",
        "    \"\"\"\n",
        "    return {\"\".join(codon): 0 for codon in product(\"ACGU\", repeat=3)}\n",
        "\n",
        "def kullback_leibler(p, q):\n",
        "    \"\"\"\n",
        "    Computes Kullback-Leibler divergence between two distributions.\n",
        "    Both p and q must be dictionaries from events to probabilities.\n",
        "    The divergence is defined only when q[event] == 0 implies p[event] == 0.\n",
        "    \"\"\"\n",
        "    return np.nan\n",
        "\n",
        "if __name__ == '__main__':\n",
        "    aas = list(\"*ACDEFGHIKLMNPQRSTVWY\") # List of amino acids\n",
        "    n = 10000\n",
        "\n",
        "    # generate a random protein and some associated rna\n",
        "    protein = \"\".join(choice(aas, n))\n",
        "    pass\n",
        "\n",
        "    # Maybe check that converting back to protein results in the same sequence\n",
        "    pass\n",
        "\n",
        "    # Calculate codon probabilities of the rna sequence\n",
        "    cp_predicted = codon_probabilities(\"<rna sequence>\") # placeholder call\n",
        "\n",
        "    # Calculate codon probabilities based on the codon usage table\n",
        "    cp_orig = {\"\".join(codon): 0 for codon in product(\"ACGU\", repeat=3)} # placeholder dict\n",
        "\n",
        "    # Create a completely random RNA sequence and get the codon probabilities\n",
        "    pass\n",
        "    cp_uniform = codon_probabilities(\"<random rna sequence>\") # placeholder call\n",
        "\n",
        "    print(\"d(original || predicted) =\", kullback_leibler(cp_orig, cp_predicted))\n",
        "    print(\"d(predicted || original) =\", kullback_leibler(cp_predicted, cp_orig))\n",
        "    print()\n",
        "    print(\"d(original || uniform) =\", kullback_leibler(cp_orig, cp_uniform))\n",
        "    print(\"d(uniform || original) =\", kullback_leibler(cp_uniform, cp_orig))\n",
        "    print()\n",
        "    print(\"d(predicted || uniform) =\", kullback_leibler(cp_predicted, cp_uniform))\n",
        "    print(\"d(uniform || predicted) =\", kullback_leibler(cp_uniform, cp_predicted))"
      ]
    },
    {
      "cell_type": "markdown",
      "metadata": {
        "id": "iHfZxIcGVSei"
      },
      "source": [
        "### Idea of solution\n",
        "\n",
        "fill in"
      ]
    },
    {
      "cell_type": "markdown",
      "metadata": {
        "id": "D316zp_9VSei"
      },
      "source": [
        "### Discussion\n",
        "\n",
        "fill in"
      ]
    },
    {
      "cell_type": "markdown",
      "metadata": {
        "id": "c2NFq-MTVSei"
      },
      "source": [
        "## Stationary and equilibrium distributions (extra)\n",
        "\n",
        "Let us consider a Markov chain of order one on the set of nucleotides.\n",
        "Its transition probabilities can be expressed as a $4 \\times 4$ matrix\n",
        "$P=(p_{ij})$, where the element $p_{ij}$ gives the probability of the $j$th nucleotide\n",
        "on the condition the previous nucleotide was the $i$th. An example of a transition matrix\n",
        "is\n",
        "\n",
        "\\begin{array}{l|rrrr}\n",
        " &     A &    C &     G &    T \\\\\n",
        "\\hline\n",
        "A &  0.30 &  0.0 &  0.70 &  0.0 \\\\\n",
        "C &  0.00 &  0.4 &  0.00 &  0.6 \\\\\n",
        "G &  0.35 &  0.0 &  0.65 &  0.0 \\\\\n",
        "T &  0.00 &  0.2 &  0.00 &  0.8 \\\\\n",
        "\\end{array}.\n",
        "\n",
        "A distribution $\\pi=(\\pi_1,\\pi_2,\\pi_3,\\pi_4)$ is called *stationary*, if\n",
        "$\\pi = \\pi P$ (the product here is matrix product).\n",
        "\n",
        "20. Write function ```get_stationary_distributions``` that gets a transition matrix as parameter,\n",
        "  and returns the list of stationary distributions. You can do this with NumPy by\n",
        "  first taking transposition of both sides of the above equation to get equation\n",
        "  $\\pi^T = P^T \\pi^T$. Using numpy.linalg.eig take all eigenvectors related to\n",
        "  eigenvalue 1.0. By normalizing these vectors to sum up to one get the stationary distributions\n",
        "  of the original transition matrix. In the ```main``` function print the stationary distributions\n",
        "  of the above transition matrix."
      ]
    },
    {
      "cell_type": "code",
      "execution_count": 24,
      "metadata": {
        "ExecuteTime": {
          "end_time": "2019-07-08T22:04:23.591644Z",
          "start_time": "2019-07-08T22:04:23.580588Z"
        },
        "colab": {
          "base_uri": "https://localhost:8080/"
        },
        "id": "hQyLjf7-VSej",
        "outputId": "d4c2b301-a8e2-45df-dd44-0752748509f3"
      },
      "outputs": [
        {
          "output_type": "stream",
          "name": "stdout",
          "text": [
            "-0.172, +0.405, -0.467, -0.103\n",
            "+0.248, +0.475, -0.061, -0.312\n"
          ]
        }
      ],
      "source": [
        "def get_stationary_distributions(transition):\n",
        "    \"\"\"\n",
        "    The function get a transition matrix of a degree one Markov chain as parameter.\n",
        "    It returns a list of stationary distributions, in vector form, for that chain.\n",
        "    \"\"\"\n",
        "    return np.random.rand(2, 4) - 0.5\n",
        "\n",
        "\n",
        "if __name__ == \"__main__\":\n",
        "    transition=np.array([[0.3, 0, 0.7, 0],\n",
        "                         [0, 0.4, 0, 0.6],\n",
        "                         [0.35, 0, 0.65, 0],\n",
        "                         [0, 0.2, 0, 0.8]])\n",
        "    print(\"\\n\".join(\n",
        "        \", \".join(\n",
        "            f\"{pv:+.3f}\"\n",
        "            for pv in p)\n",
        "        for p in get_stationary_distributions(transition)))"
      ]
    },
    {
      "cell_type": "markdown",
      "metadata": {
        "id": "PlTpjjsJVSej"
      },
      "source": [
        "### Idea of solution\n"
      ]
    },
    {
      "cell_type": "markdown",
      "metadata": {
        "id": "zRQKqheVVSej"
      },
      "source": [
        "### Discussion\n"
      ]
    },
    {
      "cell_type": "markdown",
      "metadata": {
        "id": "sEpJbx-xVSej"
      },
      "source": [
        "21. Implement the `kl_divergence` function below so that the main guarded code runs properly. Using your modified Markov chain generator generate a nucleotide sequence $s$ of length $10\\;000$. Choose prefixes of $s$ of lengths $1, 10, 100, 1000$, and $10\\;000$. For each of these prefixes find out their nucleotide distribution (of order 0) using your earlier tool. Use 1 as the pseudo count. Then, for each prefix, compute the KL divergence between the initial distribution and the normalized nucleotide distribution."
      ]
    },
    {
      "cell_type": "code",
      "execution_count": 25,
      "metadata": {
        "ExecuteTime": {
          "end_time": "2019-07-08T22:04:23.635060Z",
          "start_time": "2019-07-08T22:04:23.618890Z"
        },
        "colab": {
          "base_uri": "https://localhost:8080/"
        },
        "id": "os6dKLKqVSek",
        "outputId": "216101a3-ee33-4f24-c0fd-0b61017b9c14"
      },
      "outputs": [
        {
          "output_type": "stream",
          "name": "stdout",
          "text": [
            "Transition probabilities are:\n",
            "[[0.3  0.   0.7  0.  ]\n",
            " [0.   0.4  0.   0.6 ]\n",
            " [0.35 0.   0.65 0.  ]\n",
            " [0.   0.2  0.   0.8 ]]\n",
            "Stationary distributions:\n",
            "[[-0.23055953  0.10382718 -0.27458709 -0.14068193]\n",
            " [ 0.38515224  0.48844312  0.04581161  0.17699008]]\n",
            "Using [0.39, 0.49, 0.05, 0.18] as initial distribution\n",
            "\n",
            "KL divergence of stationary distribution prefix of length     1 is 0.59413000\n",
            "KL divergence of stationary distribution prefix of length    10 is 0.09258067\n",
            "KL divergence of stationary distribution prefix of length   100 is 0.69268376\n",
            "KL divergence of stationary distribution prefix of length  1000 is 0.41582823\n",
            "KL divergence of stationary distribution prefix of length 10000 is 0.69704461\n"
          ]
        }
      ],
      "source": [
        "def kl_divergences(initial, transition):\n",
        "    \"\"\"\n",
        "    Calculates the the Kullback-Leibler divergences between empirical distributions\n",
        "    generated using a markov model seeded with an initial distributin and a transition\n",
        "    matrix, and the initial distribution.\n",
        "    Sequences of length [1, 10, 100, 1000, 10000] are generated.\n",
        "    \"\"\"\n",
        "    return zip([1, 10, 100, 1000, 10000], np.random.rand(5))\n",
        "\n",
        "if __name__ == \"__main__\":\n",
        "    transition=np.array([[0.3, 0, 0.7, 0],\n",
        "                         [0, 0.4, 0, 0.6],\n",
        "                         [0.35, 0, 0.65, 0],\n",
        "                         [0, 0.2, 0, 0.8]])\n",
        "    print(\"Transition probabilities are:\")\n",
        "    print(transition)\n",
        "    stationary_distributions = get_stationary_distributions(transition)\n",
        "    print(\"Stationary distributions:\")\n",
        "    print(np.stack(stationary_distributions))\n",
        "    initial = stationary_distributions[1]\n",
        "    print(\"Using [{}] as initial distribution\\n\".format(\", \".join(f\"{v:.2f}\" for v in initial)))\n",
        "    results = kl_divergences(initial, transition)\n",
        "    for prefix_length, divergence in results: # iterate on prefix lengths in order (1, 10, 100...)\n",
        "        print(\"KL divergence of stationary distribution prefix \" \\\n",
        "              \"of length {:5d} is {:.8f}\".format(prefix_length, divergence))"
      ]
    },
    {
      "cell_type": "markdown",
      "metadata": {
        "id": "fRPDtnqNVSek"
      },
      "source": [
        "### Idea of solution\n",
        "\n",
        "fill in"
      ]
    },
    {
      "cell_type": "markdown",
      "metadata": {
        "id": "2X8yE5fDVSek"
      },
      "source": [
        "### Discussion\n",
        "fill in"
      ]
    },
    {
      "cell_type": "markdown",
      "metadata": {
        "id": "By-e6uKUVSek"
      },
      "source": [
        "22. Implement the following in the ```main``` function.\n",
        "Find the stationary distribution for the following transition matrix:  \n",
        "\n",
        "\\begin{array}{ l | r r r r}\n",
        " & A &     C &     G &     T \\\\\n",
        "\\hline\n",
        "A &  0.30 &  0.10 &  0.50 &  0.10 \\\\\n",
        "C &  0.20 &  0.30 &  0.15 &  0.35 \\\\\n",
        "G &  0.25 &  0.15 &  0.20 &  0.40 \\\\\n",
        "T &  0.35 &  0.20 &  0.40 &  0.05 \\\\\n",
        "\\end{array}\n",
        "\n",
        "Since there is only one stationary distribution, it is called the *equilibrium distribution*.\n",
        "Choose randomly two nucleotide distributions. You can take these from your sleeve or\n",
        "sample them from the Dirichlet distribution. Then for each of these distributions\n",
        "as the initial distribution of the Markov chain, repeat the above experiment.\n",
        "\n",
        "The `main` function should return tuples, where the first element is the (random) initial distribution and the second element contains the results as a list of tuples where the first element is the kl divergence and the second element the empirical nucleotide distribution, for the different prefix lengths.\n",
        "\n",
        "The state distribution should converge to the equilibrium distribution no matter how we\n",
        "start the Markov chain! That is the last line of the tables should have KL-divergence very close to $0$ and an empirical distribution very close to the equilibrium distribution.\n"
      ]
    },
    {
      "cell_type": "code",
      "execution_count": 26,
      "metadata": {
        "ExecuteTime": {
          "end_time": "2019-07-08T22:04:23.681300Z",
          "start_time": "2019-07-08T22:04:23.657345Z"
        },
        "colab": {
          "base_uri": "https://localhost:8080/"
        },
        "id": "MzN-sTRhVSel",
        "outputId": "918b44ad-71cf-48da-f10c-8aedf7a7432a"
      },
      "outputs": [
        {
          "output_type": "stream",
          "name": "stdout",
          "text": [
            "Transition probabilities are:\n",
            "[[0.3  0.1  0.5  0.1 ]\n",
            " [0.2  0.3  0.15 0.35]\n",
            " [0.25 0.15 0.2  0.4 ]\n",
            " [0.35 0.2  0.4  0.05]]\n",
            "Equilibrium distribution:\n",
            "[ 0.03104708  0.42420569 -0.48321317  0.24507583]\n",
            "\n",
            "Using [-0.08794098  0.46284033 -0.38554649 -0.36384751] as initial distribution:\n",
            "kl-divergence   empirical distribution\n",
            "0.78003113465   [0.36501267 0.12009476 0.30242836 0.13718875]\n",
            "0.67214154599   [0.23867641 0.27547495 0.14453306 0.08587349]\n",
            "0.79772127302   [ 0.11956405 -0.20510922 -0.34984506  0.37833414]\n",
            "0.23013413633   [-0.0257633  -0.03088234  0.35935892  0.08199747]\n",
            "0.38640849172   [-0.11816349 -0.45837739 -0.20102422 -0.11464482]\n",
            "\n",
            "Using [-0.39050732 -0.43517827  0.26740709 -0.34365933] as initial distribution:\n",
            "kl-divergence   empirical distribution\n",
            "0.52146021973   [ 0.24278404 -0.04551347  0.27932431  0.20619453]\n",
            "0.11066968709   [ 0.25609664  0.31348852 -0.08257537 -0.27335366]\n",
            "0.86320166898   [-0.4341002  -0.37299151  0.45177169  0.44015131]\n",
            "0.37014772164   [ 0.17422885 -0.38229633 -0.08596057  0.40036686]\n",
            "0.34282974224   [ 0.47474263  0.32072219  0.27840103 -0.41630322]\n"
          ]
        }
      ],
      "source": [
        "def main(transition, equilibrium_distribution):\n",
        "    vals = list(zip(np.random.rand(10), np.random.rand(10, 4) - 0.5))\n",
        "    return zip(np.random.rand(2, 4) - 0.5,\n",
        "               [vals[:5], vals[5:]])\n",
        "\n",
        "\n",
        "if __name__ == \"__main__\":\n",
        "    transition = np.array([[0.3, 0.1, 0.5, 0.1],\n",
        "                           [0.2, 0.3, 0.15, 0.35],\n",
        "                           [0.25, 0.15, 0.2, 0.4],\n",
        "                           [0.35, 0.2, 0.4, 0.05]])\n",
        "    print(\"Transition probabilities are:\", transition, sep=\"\\n\")\n",
        "    stationary_distributions = get_stationary_distributions(transition)\n",
        "    # Uncomment the below line to check that there actually is only one stationary distribution\n",
        "    # assert len(stationary_distributions) == 1\n",
        "    equilibrium_distribution = stationary_distributions[0]\n",
        "    print(\"Equilibrium distribution:\")\n",
        "    print(equilibrium_distribution)\n",
        "    for initial_distribution, results in main(transition, equilibrium_distribution):\n",
        "        print(\"\\nUsing {} as initial distribution:\".format(initial_distribution))\n",
        "        print(\"kl-divergence   empirical distribution\")\n",
        "        print(\"\\n\".join(\"{:.11f}   {}\".format(di, kl) for di, kl in results))"
      ]
    },
    {
      "cell_type": "markdown",
      "metadata": {
        "id": "IK8bqLW0VSel"
      },
      "source": [
        "### Idea of solution\n",
        "\n",
        "fill in"
      ]
    },
    {
      "cell_type": "markdown",
      "metadata": {
        "id": "8C71PiHpVSel"
      },
      "source": [
        "### Discussion\n",
        "fill in"
      ]
    }
  ],
  "metadata": {
    "kernelspec": {
      "display_name": "Python 3 (ipykernel)",
      "language": "python",
      "name": "python3"
    },
    "language_info": {
      "codemirror_mode": {
        "name": "ipython",
        "version": 3
      },
      "file_extension": ".py",
      "mimetype": "text/x-python",
      "name": "python",
      "nbconvert_exporter": "python",
      "pygments_lexer": "ipython3",
      "version": "3.12.3"
    },
    "varInspector": {
      "cols": {
        "lenName": 16,
        "lenType": 16,
        "lenVar": 40
      },
      "kernels_config": {
        "python": {
          "delete_cmd_postfix": "",
          "delete_cmd_prefix": "del ",
          "library": "var_list.py",
          "varRefreshCmd": "print(var_dic_list())"
        },
        "r": {
          "delete_cmd_postfix": ") ",
          "delete_cmd_prefix": "rm(",
          "library": "var_list.r",
          "varRefreshCmd": "cat(var_dic_list()) "
        }
      },
      "position": {
        "height": "598.85px",
        "left": "1223px",
        "right": "20px",
        "top": "121px",
        "width": "353px"
      },
      "types_to_exclude": [
        "module",
        "function",
        "builtin_function_or_method",
        "instance",
        "_Feature"
      ],
      "window_display": false
    },
    "colab": {
      "provenance": [],
      "toc_visible": true
    }
  },
  "nbformat": 4,
  "nbformat_minor": 0
}